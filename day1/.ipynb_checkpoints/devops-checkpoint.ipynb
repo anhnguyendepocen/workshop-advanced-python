{
 "cells": [
  {
   "cell_type": "markdown",
   "metadata": {},
   "source": [
    "# DevOps"
   ]
  },
  {
   "cell_type": "markdown",
   "metadata": {},
   "source": [
    "## Reproducible research\n",
    "\n",
    "A large majority of published results today are not reproducible. Two of my colleagues are preparing a longer course on the subject.\n",
    "\n",
    "[https://bitbucket.org/scilifelab-lts/reproducible_research_example](https://bitbucket.org/scilifelab-lts/reproducible_research_example)\n",
    "\n",
    "- Mention types of reproducibility\n",
    "- Get the course git link!"
   ]
  },
  {
   "cell_type": "markdown",
   "metadata": {},
   "source": [
    "## What are devops?\n",
    "\n",
    "From a more restricted data science point of view, [DevOps](https://en.wikipedia.org/wiki/DevOps) are less concerned with automating the production of software. For a researcher, the main interest is research reproducibility, but also data management and backup.\n",
    "\n",
    "- Do you need this?\n",
    "- Data scientist, data engineer, data analyst.\n",
    "- \"Orchestration\" and \"data lake\"."
   ]
  },
  {
   "cell_type": "markdown",
   "metadata": {},
   "source": [
    "## How to source your code\n",
    "\n",
    "- What is the difference between source code and a script?\n",
    "- Discussion on how to source python code.\n",
    "- Importance of design patterns.\n",
    "- Python style guide.\n",
    "- Software versioning milestones."
   ]
  },
  {
   "cell_type": "markdown",
   "metadata": {},
   "source": [
    "## Using source editors. What matters?\n",
    "\n",
    "Editors for Python range from any simple raw text editor to the most complex IDE (integrated development environment).\n",
    "\n",
    "In the first cathegory I reccommend Notepad and Notepad++ for Windows, Emacs for MacOS and Linux, and nano, vim, geany for Linux.\n",
    "\n",
    "Among IDEs, Spyder is a simpler editor with an interface similar to Matlab and native integration of the IPython interpreter, and we will use that for the purpose of this class. A much more complex favorite of mine is PyCharm from JetBrains, that has a community edition. The one I use more frequently is Atom, built by the git community.\n",
    "\n",
    "What matters:\n",
    "- Using the editor most appropriate to the complexity of the task.\n",
    "- Full feature editors make it easier to write good code!\n",
    "- Syntax and style linting.\n",
    "- Code refactoring.\n",
    "- Git/svn integration.\n",
    "- Remote development."
   ]
  },
  {
   "cell_type": "markdown",
   "metadata": {},
   "source": [
    "Task:\n",
    "\n",
    "Create a 'src' folder inside your working directory. Use a raw test editor to make a hello world program inside and run it on the command line. Now open the same file inside your favorite editor and run it inside the interpreter embedded into it.\n",
    "\n",
    "Now write a function called hello_world() and load it here using a module call."
   ]
  },
  {
   "cell_type": "code",
   "execution_count": 1,
   "metadata": {},
   "outputs": [
    {
     "data": {
      "text/plain": [
       "['',\n",
       " '/home/sergiu/programs/miniconda3/envs/lts/lib/python36.zip',\n",
       " '/home/sergiu/programs/miniconda3/envs/lts/lib/python3.6',\n",
       " '/home/sergiu/programs/miniconda3/envs/lts/lib/python3.6/lib-dynload',\n",
       " '/home/sergiu/programs/miniconda3/envs/lts/lib/python3.6/site-packages',\n",
       " '/home/sergiu/programs/miniconda3/envs/lts/lib/python3.6/site-packages/setuptools-27.2.0-py3.6.egg',\n",
       " '/home/sergiu/programs/miniconda3/envs/lts/lib/python3.6/site-packages/IPython/extensions',\n",
       " '/home/sergiu/.ipython']"
      ]
     },
     "execution_count": 1,
     "metadata": {},
     "output_type": "execute_result"
    }
   ],
   "source": [
    "import sys\n",
    "sys.path"
   ]
  },
  {
   "cell_type": "code",
   "execution_count": 2,
   "metadata": {
    "collapsed": true
   },
   "outputs": [],
   "source": [
    "sys.path.append(\"/custom/path\")"
   ]
  },
  {
   "cell_type": "code",
   "execution_count": 3,
   "metadata": {},
   "outputs": [
    {
     "data": {
      "text/plain": [
       "['',\n",
       " '/home/sergiu/programs/miniconda3/envs/lts/lib/python36.zip',\n",
       " '/home/sergiu/programs/miniconda3/envs/lts/lib/python3.6',\n",
       " '/home/sergiu/programs/miniconda3/envs/lts/lib/python3.6/lib-dynload',\n",
       " '/home/sergiu/programs/miniconda3/envs/lts/lib/python3.6/site-packages',\n",
       " '/home/sergiu/programs/miniconda3/envs/lts/lib/python3.6/site-packages/setuptools-27.2.0-py3.6.egg',\n",
       " '/home/sergiu/programs/miniconda3/envs/lts/lib/python3.6/site-packages/IPython/extensions',\n",
       " '/home/sergiu/.ipython',\n",
       " '/custom/path']"
      ]
     },
     "execution_count": 3,
     "metadata": {},
     "output_type": "execute_result"
    }
   ],
   "source": [
    "sys.path"
   ]
  },
  {
   "cell_type": "code",
   "execution_count": 4,
   "metadata": {},
   "outputs": [
    {
     "ename": "ModuleNotFoundError",
     "evalue": "No module named 'myfancymodule'",
     "output_type": "error",
     "traceback": [
      "\u001b[0;31m---------------------------------------------------------------------------\u001b[0m",
      "\u001b[0;31mModuleNotFoundError\u001b[0m                       Traceback (most recent call last)",
      "\u001b[0;32m<ipython-input-4-a46c63b11ef7>\u001b[0m in \u001b[0;36m<module>\u001b[0;34m()\u001b[0m\n\u001b[0;32m----> 1\u001b[0;31m \u001b[0;32mimport\u001b[0m \u001b[0mmyfancymodule\u001b[0m\u001b[0;34m\u001b[0m\u001b[0m\n\u001b[0m\u001b[1;32m      2\u001b[0m \u001b[0mmyfancymodule\u001b[0m\u001b[0;34m.\u001b[0m\u001b[0mhello_world\u001b[0m\u001b[0;34m(\u001b[0m\u001b[0;34m)\u001b[0m\u001b[0;34m\u001b[0m\u001b[0m\n",
      "\u001b[0;31mModuleNotFoundError\u001b[0m: No module named 'myfancymodule'"
     ]
    }
   ],
   "source": [
    "import myfancymodule\n",
    "myfancymodule.hello_world()"
   ]
  },
  {
   "cell_type": "markdown",
   "metadata": {},
   "source": [
    "Discussion:\n",
    "- Do you see a benefit to this approach?\n",
    "- How much of the code should be sourced and how much should be kept on a notebook?"
   ]
  },
  {
   "cell_type": "markdown",
   "metadata": {},
   "source": [
    "## Distributed version control using git\n",
    "\n",
    "- Git - a svn for the distributed computing age.\n",
    "- Collaborative editing.\n",
    "- History: subversion, mercurial, git and bitbucket.\n",
    "\n",
    "### Exercise\n",
    "\n",
    "Let us now add the sourced code to our own git repositories!\n",
    "\n",
    "```\n",
    "git init\n",
    "git status\n",
    "```\n",
    "**stage:** Now make a change to your source code and run git status again. To tell Git to start tracking changes made to your file, we first need to add it to the staging area by using git add.\n",
    "```\n",
    "git add your_file\n",
    "# git add .\n",
    "# git log\n",
    "# git reset your_file\n",
    "git status\n",
    "```\n",
    "**commit, checkout:** Notice how Git says changes to be committed? The files listed here are in the Staging Area, and they are not in the repository yet. We could add or remove files from the stage before we store them in the repository. To store our staged changes we run the commit command with a message describing what we've changed. Files can be changed back to how they were at the last commit by using the command: \n",
    "\n",
    "```\n",
    "git commit -m \"I modified the hello function\"\n",
    "# git checkout -- your_file\n",
    "```\n",
    "\n",
    "**push, origin, master:** To push a local repo to the GitHub server we'll need to add a remote repository. This command takes a remote name and a repository URL. The push command tells Git where to put our commits when we're ready, and now we're ready. So let's push our local changes to our origin repo (on GitHub).\n",
    "\n",
    "The name of our remote is \"origin\" and the default local branch name is \"master\". The -u tells Git to remember the parameters, so that next time we can simply run git push and Git will know what to do. Go ahead and push it!\n",
    "\n",
    "```\n",
    "git remote add origin https://github.com/urreponame/urreponame.git\n",
    "git push -u origin master\n",
    "```\n",
    "\n",
    "**pull** Let's pretend some time has passed. We've invited other people to our GitHub project who have pulled your changes, made their own commits, and pushed them. We can check for changes on our GitHub repository and pull down any new changes by running pull. Let's take a look at what is  different from our last commit by using the git diff command. In this case we want the diff of our most recent commit, which we can refer to using the HEAD pointer. diff can also be used for files newly staged.\n",
    "\n",
    "```\n",
    "git pull origin master\n",
    "git diff HEAD\n",
    "# git diff --staged\n",
    "```\n"
   ]
  },
  {
   "cell_type": "code",
   "execution_count": null,
   "metadata": {
    "collapsed": true
   },
   "outputs": [],
   "source": []
  }
 ],
 "metadata": {
  "kernelspec": {
   "display_name": "Python 3",
   "language": "python",
   "name": "python3"
  },
  "language_info": {
   "codemirror_mode": {
    "name": "ipython",
    "version": 3
   },
   "file_extension": ".py",
   "mimetype": "text/x-python",
   "name": "python",
   "nbconvert_exporter": "python",
   "pygments_lexer": "ipython3",
   "version": "3.6.1"
  }
 },
 "nbformat": 4,
 "nbformat_minor": 2
}
